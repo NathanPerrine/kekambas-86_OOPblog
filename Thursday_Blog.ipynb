{
 "cells": [
  {
   "cell_type": "code",
   "execution_count": null,
   "metadata": {},
   "outputs": [],
   "source": [
    "class Blog:\n",
    "    def __init__(self):\n",
    "        self.users = []\n",
    "        self.posts = []\n",
    "        self.current_user = None\n",
    "        \n",
    "    def create_new_user(self):\n",
    "        username = input('Please enter a username ')\n",
    "        password = input('Please enter a password ')\n",
    "        new_user = User(username, password)\n",
    "        self.users.append(new_user)\n",
    "        print(f\"{new_user} has been created\")\n",
    "    \n",
    "    def log_user_in(self):\n",
    "        username = input('What is your username? ')\n",
    "        password = input('What is your password? ')\n",
    "        for user in self.users:\n",
    "            if username == user.username and user.check_password(password):\n",
    "                self.current_user = user\n",
    "                print(f\"{user} has been logged in\")\n",
    "                break\n",
    "        else:\n",
    "            print('Username and/or Password is incorrect')\n",
    "    \n",
    "    def log_user_out(self):\n",
    "        self.current_user = None\n",
    "        print(\"You have successfully logged out.\")\n",
    "\n",
    "    def create_a_post(self):\n",
    "        if self.current_user:\n",
    "            title = input('What is the title of your post? ').title()\n",
    "            body = input('What is the body of your post? ')\n",
    "            new_post = Post(title, body, self.current_user)\n",
    "            self.posts.append(new_post)\n",
    "            print(f\"{new_post.title} has been created.\")\n",
    "        else:\n",
    "            print('You must be logged in to perform this action')\n",
    "    \n",
    "    def view_posts(self):\n",
    "        if self.posts:\n",
    "            for post in self.posts:\n",
    "                print(post)\n",
    "        else:\n",
    "            print('There are currently no posts for this blog :(')\n",
    "\n",
    "\n",
    "class User:\n",
    "    \n",
    "    id_counter = 1\n",
    "    \n",
    "    def __init__(self, username, password):\n",
    "        self.id = User.id_counter\n",
    "        User.id_counter += 1\n",
    "        self.username = username\n",
    "        self.password = password\n",
    "        \n",
    "    def __str__(self):\n",
    "        return self.username\n",
    "    \n",
    "    def __repr__(self):\n",
    "        return f\"<User {self.id}|{self.username}>\"\n",
    "    \n",
    "    def check_password(self, password):\n",
    "        return self.password == password\n",
    "\n",
    "\n",
    "class Post:\n",
    "    \n",
    "    id_counter = 1\n",
    "\n",
    "    def __init__(self, title, body, author):\n",
    "        \"\"\"\n",
    "        PARAMS:\n",
    "        title  -> str\n",
    "        body   -> str\n",
    "        author -> User\n",
    "        \"\"\"\n",
    "        self.id = Post.id_counter\n",
    "        Post.id_counter += 1\n",
    "        self.title = title\n",
    "        self.body = body\n",
    "        self.author = author\n",
    "\n",
    "    def __str__(self):\n",
    "        formatted_post = f\"\"\"\n",
    "        {self.id} - {self.title.title()}\n",
    "        By: {self.author}\n",
    "        {self.body}\n",
    "        \"\"\"\n",
    "        return formatted_post\n",
    "\n",
    "    def __repr__(self):\n",
    "        return f\"<Post {self.id}|{self.title} by {self.author}>\"\n"
   ]
  },
  {
   "cell_type": "code",
   "execution_count": null,
   "metadata": {},
   "outputs": [],
   "source": [
    "def run_blog():\n",
    "    # Create an instance of the Blog class\n",
    "    my_blog = Blog()\n",
    "    while True:\n",
    "        # if there is currently no user logged in\n",
    "        if not my_blog.current_user:\n",
    "            print(\"1. Sign Up\\n2. Log In\\n3. View All Posts\\n4. Quit\")\n",
    "            to_do = input('Which option which you like to do? ')\n",
    "            while to_do not in {'1', '2', '3', '4'}:\n",
    "                to_do = input('Please choose either 1, 2, 3, or 4')\n",
    "            if to_do == '4':\n",
    "                break\n",
    "            elif to_do == '1':\n",
    "                my_blog.create_new_user()\n",
    "            elif to_do == '2':\n",
    "                my_blog.log_user_in()\n",
    "            elif to_do == '3':\n",
    "                my_blog.view_posts()\n",
    "        # if there is a user logged in\n",
    "        else:\n",
    "            print(\"1. Log Out\\n2. Create a Post\\n3. View All Posts\")\n",
    "            to_do = input('Which option which you like to do? ')\n",
    "            while to_do not in {'1', '2', '3'}:\n",
    "                to_do = input('Please choose 1, 2, or 3')\n",
    "            if to_do == '1':\n",
    "                my_blog.log_user_out()\n",
    "            elif to_do == '2':\n",
    "                my_blog.create_a_post()\n",
    "            elif to_do == '3':\n",
    "                my_blog.view_posts()\n",
    "                \n",
    "run_blog()   "
   ]
  },
  {
   "cell_type": "code",
   "execution_count": null,
   "metadata": {},
   "outputs": [],
   "source": [
    "my_blog = Blog()\n",
    "my_blog.create_new_user()\n",
    "my_blog.create_new_user()"
   ]
  },
  {
   "cell_type": "code",
   "execution_count": null,
   "metadata": {},
   "outputs": [],
   "source": [
    "my_blog.users"
   ]
  },
  {
   "cell_type": "code",
   "execution_count": null,
   "metadata": {},
   "outputs": [],
   "source": [
    "my_blog.log_user_in()"
   ]
  },
  {
   "cell_type": "code",
   "execution_count": null,
   "metadata": {},
   "outputs": [],
   "source": [
    "my_blog.current_user"
   ]
  },
  {
   "cell_type": "code",
   "execution_count": null,
   "metadata": {},
   "outputs": [],
   "source": [
    "my_blog.log_user_out()\n",
    "my_blog.current_user"
   ]
  },
  {
   "cell_type": "code",
   "execution_count": null,
   "metadata": {},
   "outputs": [],
   "source": [
    "user1 = User('bstanton', 'pass')\n",
    "user2 = User('bps', 'pass')"
   ]
  },
  {
   "cell_type": "code",
   "execution_count": null,
   "metadata": {},
   "outputs": [],
   "source": []
  },
  {
   "cell_type": "code",
   "execution_count": null,
   "metadata": {},
   "outputs": [],
   "source": [
    "user1.check_password('')"
   ]
  },
  {
   "cell_type": "code",
   "execution_count": null,
   "metadata": {},
   "outputs": [],
   "source": [
    "user2.password"
   ]
  },
  {
   "cell_type": "code",
   "execution_count": null,
   "metadata": {},
   "outputs": [],
   "source": [
    "User.__dict__"
   ]
  }
 ],
 "metadata": {
  "kernelspec": {
   "display_name": "Python 3",
   "language": "python",
   "name": "python3"
  },
  "language_info": {
   "codemirror_mode": {
    "name": "ipython",
    "version": 3
   },
   "file_extension": ".py",
   "mimetype": "text/x-python",
   "name": "python",
   "nbconvert_exporter": "python",
   "pygments_lexer": "ipython3",
   "version": "3.8.5"
  }
 },
 "nbformat": 4,
 "nbformat_minor": 4
}
